{
 "cells": [
  {
   "cell_type": "markdown",
   "id": "fde649c8",
   "metadata": {},
   "source": [
    "# Data retrieval and cleaning"
   ]
  },
  {
   "cell_type": "markdown",
   "id": "16f9e845",
   "metadata": {},
   "source": [
    "We import basic libraries"
   ]
  },
  {
   "cell_type": "code",
   "execution_count": 90,
   "id": "057ed758",
   "metadata": {},
   "outputs": [],
   "source": [
    "import pandas as pd\n",
    "import numpy as np\n",
    "from google.cloud import storage\n",
    "import os\n",
    "from pathlib import Path\n",
    "from tqdm.std import tqdm\n",
    "import sqlite3"
   ]
  },
  {
   "cell_type": "markdown",
   "id": "5e457311",
   "metadata": {},
   "source": [
    "## Retrieval and Storage of Basic files from Google Cloud Storage"
   ]
  },
  {
   "cell_type": "code",
   "execution_count": 67,
   "id": "829230c8",
   "metadata": {},
   "outputs": [],
   "source": [
    "BUCKET_NAME = 'raw_profiles'\n",
    "PLATE_NUMBER = '24277'\n",
    "LOCAL_DATA_PATH = os.path.join(os.path.expanduser('~'), \".morpho_minds_data\")"
   ]
  },
  {
   "cell_type": "code",
   "execution_count": 78,
   "id": "0f1333c0",
   "metadata": {},
   "outputs": [],
   "source": [
    "def download_blob(bucket_name, source_blob_name, destination_file_name):\n",
    "    \"\"\"\n",
    "    Download a file from GCS. Is called blob so is generic but will retrieve the SQLite DB.\n",
    "    \"\"\"\n",
    "    # Initialize a client\n",
    "    storage_client = storage.Client()\n",
    "\n",
    "    # Get the bucket\n",
    "    bucket = storage_client.bucket(bucket_name)\n",
    "\n",
    "    # Get the blob\n",
    "    blob = bucket.blob(source_blob_name)\n",
    "\n",
    "    # Download the blob to a destination file\n",
    "    with open(destination_file_name, 'wb') as f:\n",
    "        with tqdm.wrapattr(f, \"write\", total=blob.size) as file_obj:\n",
    "            storage_client.download_blob_to_file(blob, file_obj)"
   ]
  },
  {
   "cell_type": "code",
   "execution_count": 98,
   "id": "cfb601e9",
   "metadata": {},
   "outputs": [],
   "source": [
    "def create_folder_structure():\n",
    "    \"\"\"\n",
    "    Check for folder structure and create it when needed. \n",
    "    \"\"\"\n",
    "    \n",
    "    ## Check if data folders exists. If not, create it.\n",
    "    if not os.path.exists(LOCAL_DATA_PATH):\n",
    "        os.makedirs(LOCAL_DATA_PATH)\n",
    "        os.makedirs(Path(LOCAL_DATA_PATH).joinpath(PLATE_NUMBER, 'raw'))\n",
    "        os.makedirs(Path(LOCAL_DATA_PATH).joinpath(PLATE_NUMBER, 'processed'))\n",
    "\n",
    "    if not os.path.exists(Path(LOCAL_DATA_PATH).joinpath(PLATE_NUMBER)):\n",
    "        os.makedirs(Path(LOCAL_DATA_PATH).joinpath(PLATE_NUMBER))\n",
    "        os.makedirs(Path(LOCAL_DATA_PATH).joinpath(PLATE_NUMBER, 'raw'))\n",
    "        os.makedirs(Path(LOCAL_DATA_PATH).joinpath(PLATE_NUMBER, 'processed'))\n",
    "\n",
    "    if not os.path.exists(Path(LOCAL_DATA_PATH).joinpath(PLATE_NUMBER, 'raw')):\n",
    "        os.makedirs(Path(LOCAL_DATA_PATH).joinpath(PLATE_NUMBER, 'raw'))   \n",
    "\n",
    "    if not os.path.exists(Path(LOCAL_DATA_PATH).joinpath(PLATE_NUMBER, 'processed')):\n",
    "        os.makedirs(Path(LOCAL_DATA_PATH).joinpath(PLATE_NUMBER, 'processed'))   "
   ]
  },
  {
   "cell_type": "code",
   "execution_count": 101,
   "id": "83e8e2a0",
   "metadata": {},
   "outputs": [],
   "source": [
    "def load_dataframes():\n",
    "    \"\"\"\n",
    "    Load all the raw data into dataframes needed to work.\n",
    "    \"\"\"\n",
    "    \n",
    "    ## Check that file chemical_compounds.csv exists locally. If not, download it.\n",
    "    data_query_cache_path = Path(LOCAL_DATA_PATH).joinpath(PLATE_NUMBER, 'chemical_annotations.csv')\n",
    "    data_query_cached_exists = data_query_cache_path.is_file()\n",
    "\n",
    "    if data_query_cached_exists:\n",
    "        print('Loading Chemical Annotations from local CSV...')\n",
    "        chem_df = pd.read_csv(data_query_cache_path)\n",
    "    else:\n",
    "        print('Loading Chemical Annotations from remote server...')\n",
    "        download_blob(BUCKET_NAME,\n",
    "                      f'{PLATE_NUMBER}/chemical_annotations.csv',\n",
    "                      Path(LOCAL_DATA_PATH).joinpath(PLATE_NUMBER, 'chemical_annotations.csv')\n",
    "                     )\n",
    "        chem_df = pd.read_csv(data_query_cache_path)\n",
    "\n",
    "    ## Check that sqlite db exists locally. If not, download it.\n",
    "    data_query_cache_path = Path(LOCAL_DATA_PATH).joinpath(PLATE_NUMBER, 'raw', f'{PLATE_NUMBER}.sqlite')\n",
    "    data_query_cached_exists = data_query_cache_path.is_file()\n",
    "\n",
    "    if data_query_cached_exists:\n",
    "        print('Loading SQLite DB from local DB...')\n",
    "    else:\n",
    "        print('Loading SQLite DB from remote DB...')\n",
    "        download_blob(BUCKET_NAME,\n",
    "                      f'{PLATE_NUMBER}/{PLATE_NUMBER}.sqlite',\n",
    "                      Path(LOCAL_DATA_PATH).joinpath(PLATE_NUMBER, 'raw', f'{PLATE_NUMBER}.sqlite')\n",
    "                     )\n",
    "\n",
    "    conn = sqlite3.connect(data_query_cache_path)\n",
    "    query = \"\"\"\n",
    "            SELECT Image_URL_OrigAGP, Image_URL_OrigDNA, Image_URL_OrigER, Image_URL_OrigMito, Image_URL_OrigRNA\n",
    "            FROM Image\n",
    "            \"\"\"\n",
    "    cursor = conn.execute(query)\n",
    "    data = cursor.fetchall()\n",
    "    images_df = pd.DataFrame(data, columns=[column[0] for column in cursor.description])\n",
    "\n",
    "    ## Check that mean_well_profile.csv exists. If not, download it.\n",
    "    data_query_cache_path = Path(LOCAL_DATA_PATH).joinpath(PLATE_NUMBER, 'mean_well_profiles.csv')\n",
    "    data_query_cached_exists = data_query_cache_path.is_file()\n",
    "\n",
    "    if data_query_cached_exists:\n",
    "        print('Loading Well Profiles from local CSV...')\n",
    "        well_df = pd.read_csv(data_query_cache_path)\n",
    "    else:\n",
    "        print('Loading Well Profiles from remote server...')\n",
    "        download_blob(BUCKET_NAME,\n",
    "                      f'{PLATE_NUMBER}/mean_well_profiles.csv',\n",
    "                      Path(LOCAL_DATA_PATH).joinpath(PLATE_NUMBER, 'mean_well_profiles.csv')\n",
    "                     )\n",
    "        well_df = pd.read_csv(data_query_cache_path)\n",
    "    return chem_df, images_df, well_df"
   ]
  },
  {
   "cell_type": "code",
   "execution_count": 102,
   "id": "562944b7",
   "metadata": {},
   "outputs": [
    {
     "name": "stdout",
     "output_type": "stream",
     "text": [
      "Loading Chemical Annotations from local CSV...\n",
      "Loading SQLite DB from local DB...\n",
      "Loading Well Profiles from local CSV...\n",
      "Datasets Loaded correctly ✅\n"
     ]
    }
   ],
   "source": [
    "create_folder_structure()\n",
    "\n",
    "chem_df, images_df, well_df = load_dataframes()\n",
    "\n",
    "print('Datasets Loaded correctly ✅')"
   ]
  },
  {
   "cell_type": "markdown",
   "id": "f57203d0",
   "metadata": {},
   "source": [
    "## Merge of Dataframes into Useful Data"
   ]
  },
  {
   "cell_type": "code",
   "execution_count": 103,
   "id": "ed63f91f",
   "metadata": {},
   "outputs": [
    {
     "data": {
      "text/html": [
       "<div>\n",
       "<style scoped>\n",
       "    .dataframe tbody tr th:only-of-type {\n",
       "        vertical-align: middle;\n",
       "    }\n",
       "\n",
       "    .dataframe tbody tr th {\n",
       "        vertical-align: top;\n",
       "    }\n",
       "\n",
       "    .dataframe thead th {\n",
       "        text-align: right;\n",
       "    }\n",
       "</style>\n",
       "<table border=\"1\" class=\"dataframe\">\n",
       "  <thead>\n",
       "    <tr style=\"text-align: right;\">\n",
       "      <th></th>\n",
       "      <th>BROAD_ID</th>\n",
       "      <th>CPD_NAME</th>\n",
       "      <th>CPD_NAME_TYPE</th>\n",
       "      <th>CPD_SAMPLE_ID</th>\n",
       "      <th>DOS_LIBRARY</th>\n",
       "      <th>SOURCE_NAME</th>\n",
       "      <th>CHEMIST_NAME</th>\n",
       "      <th>VENDOR_CATALOG_ID</th>\n",
       "      <th>CPD_SMILES</th>\n",
       "      <th>USERCOMMENT</th>\n",
       "    </tr>\n",
       "  </thead>\n",
       "  <tbody>\n",
       "    <tr>\n",
       "      <th>0</th>\n",
       "      <td>BRD-A56675431-001-04-0</td>\n",
       "      <td>altizide</td>\n",
       "      <td>INN</td>\n",
       "      <td>SA82748</td>\n",
       "      <td>NaN</td>\n",
       "      <td>Prestwick Chemical Inc.</td>\n",
       "      <td>NaN</td>\n",
       "      <td>Prestw-721</td>\n",
       "      <td>NS(=O)(=O)c1cc2c(NC(CSCC=C)NS2(=O)=O)cc1Cl</td>\n",
       "      <td>NaN</td>\n",
       "    </tr>\n",
       "    <tr>\n",
       "      <th>1</th>\n",
       "      <td>BRD-A51829654-001-01-4</td>\n",
       "      <td>BRL-15,572</td>\n",
       "      <td>common</td>\n",
       "      <td>SA82481</td>\n",
       "      <td>NaN</td>\n",
       "      <td>Biomol International Inc.</td>\n",
       "      <td>NaN</td>\n",
       "      <td>AC-536</td>\n",
       "      <td>OC(CN1CCN(CC1)c1cccc(Cl)c1)C(c1ccccc1)c1ccccc1</td>\n",
       "      <td>NaN</td>\n",
       "    </tr>\n",
       "    <tr>\n",
       "      <th>2</th>\n",
       "      <td>BRD-K04046242-001-03-6</td>\n",
       "      <td>equilin</td>\n",
       "      <td>primary-common</td>\n",
       "      <td>SA82922</td>\n",
       "      <td>NaN</td>\n",
       "      <td>Prestwick Chemical Inc.</td>\n",
       "      <td>NaN</td>\n",
       "      <td>Prestw-850</td>\n",
       "      <td>C[C@]12CC[C@H]3C(=CCc4cc(O)ccc34)[C@@H]1CCC2=O</td>\n",
       "      <td>NaN</td>\n",
       "    </tr>\n",
       "    <tr>\n",
       "      <th>3</th>\n",
       "      <td>BRD-K16508793-001-01-8</td>\n",
       "      <td>diazepam</td>\n",
       "      <td>INN</td>\n",
       "      <td>SA59660</td>\n",
       "      <td>NaN</td>\n",
       "      <td>MicroSource Discovery Systems Inc.</td>\n",
       "      <td>NaN</td>\n",
       "      <td>1900003</td>\n",
       "      <td>CN1c2ccc(Cl)cc2C(=NCC1=O)c1ccccc1</td>\n",
       "      <td>NaN</td>\n",
       "    </tr>\n",
       "    <tr>\n",
       "      <th>4</th>\n",
       "      <td>BRD-K09397065-001-01-6</td>\n",
       "      <td>SR 57227A</td>\n",
       "      <td>to-be-curated</td>\n",
       "      <td>SA82504</td>\n",
       "      <td>NaN</td>\n",
       "      <td>Biomol International Inc.</td>\n",
       "      <td>NaN</td>\n",
       "      <td>AC-561</td>\n",
       "      <td>NC1CCN(CC1)c1cccc(Cl)n1</td>\n",
       "      <td>NaN</td>\n",
       "    </tr>\n",
       "  </tbody>\n",
       "</table>\n",
       "</div>"
      ],
      "text/plain": [
       "                 BROAD_ID    CPD_NAME   CPD_NAME_TYPE CPD_SAMPLE_ID  \\\n",
       "0  BRD-A56675431-001-04-0    altizide             INN       SA82748   \n",
       "1  BRD-A51829654-001-01-4  BRL-15,572          common       SA82481   \n",
       "2  BRD-K04046242-001-03-6     equilin  primary-common       SA82922   \n",
       "3  BRD-K16508793-001-01-8    diazepam             INN       SA59660   \n",
       "4  BRD-K09397065-001-01-6   SR 57227A   to-be-curated       SA82504   \n",
       "\n",
       "  DOS_LIBRARY                         SOURCE_NAME CHEMIST_NAME  \\\n",
       "0         NaN             Prestwick Chemical Inc.          NaN   \n",
       "1         NaN           Biomol International Inc.          NaN   \n",
       "2         NaN             Prestwick Chemical Inc.          NaN   \n",
       "3         NaN  MicroSource Discovery Systems Inc.          NaN   \n",
       "4         NaN           Biomol International Inc.          NaN   \n",
       "\n",
       "  VENDOR_CATALOG_ID                                      CPD_SMILES  \\\n",
       "0        Prestw-721      NS(=O)(=O)c1cc2c(NC(CSCC=C)NS2(=O)=O)cc1Cl   \n",
       "1            AC-536  OC(CN1CCN(CC1)c1cccc(Cl)c1)C(c1ccccc1)c1ccccc1   \n",
       "2        Prestw-850  C[C@]12CC[C@H]3C(=CCc4cc(O)ccc34)[C@@H]1CCC2=O   \n",
       "3           1900003               CN1c2ccc(Cl)cc2C(=NCC1=O)c1ccccc1   \n",
       "4            AC-561                         NC1CCN(CC1)c1cccc(Cl)n1   \n",
       "\n",
       "  USERCOMMENT  \n",
       "0         NaN  \n",
       "1         NaN  \n",
       "2         NaN  \n",
       "3         NaN  \n",
       "4         NaN  "
      ]
     },
     "execution_count": 103,
     "metadata": {},
     "output_type": "execute_result"
    }
   ],
   "source": [
    "chem_df.head()"
   ]
  },
  {
   "cell_type": "code",
   "execution_count": 104,
   "id": "54db596a",
   "metadata": {},
   "outputs": [
    {
     "data": {
      "text/plain": [
       "Index(['Metadata_Plate', 'Metadata_Well', 'Metadata_Assay_Plate_Barcode',\n",
       "       'Metadata_Plate_Map_Name', 'Metadata_well_position',\n",
       "       'Metadata_ASSAY_WELL_ROLE', 'Metadata_broad_sample',\n",
       "       'Metadata_mmoles_per_liter', 'Metadata_solvent', 'Metadata_pert_id',\n",
       "       ...\n",
       "       'Nuclei_Texture_Variance_DNA_5_0', 'Nuclei_Texture_Variance_ER_10_0',\n",
       "       'Nuclei_Texture_Variance_ER_3_0', 'Nuclei_Texture_Variance_ER_5_0',\n",
       "       'Nuclei_Texture_Variance_Mito_10_0', 'Nuclei_Texture_Variance_Mito_3_0',\n",
       "       'Nuclei_Texture_Variance_Mito_5_0', 'Nuclei_Texture_Variance_RNA_10_0',\n",
       "       'Nuclei_Texture_Variance_RNA_3_0', 'Nuclei_Texture_Variance_RNA_5_0'],\n",
       "      dtype='object', length=1800)"
      ]
     },
     "execution_count": 104,
     "metadata": {},
     "output_type": "execute_result"
    }
   ],
   "source": [
    "well_df.columns"
   ]
  },
  {
   "cell_type": "code",
   "execution_count": 109,
   "id": "c8df2a72",
   "metadata": {},
   "outputs": [
    {
     "data": {
      "text/plain": [
       "Index(['Image_URL_OrigAGP', 'Image_URL_OrigDNA', 'Image_URL_OrigER',\n",
       "       'Image_URL_OrigMito', 'Image_URL_OrigRNA'],\n",
       "      dtype='object')"
      ]
     },
     "execution_count": 109,
     "metadata": {},
     "output_type": "execute_result"
    }
   ],
   "source": [
    "images_df.columns"
   ]
  },
  {
   "cell_type": "code",
   "execution_count": 114,
   "id": "a923963f",
   "metadata": {},
   "outputs": [
    {
     "data": {
      "text/plain": [
       "'a01'"
      ]
     },
     "execution_count": 114,
     "metadata": {},
     "output_type": "execute_result"
    }
   ],
   "source": [
    "images_df.iloc[0,:]['Image_URL_OrigAGP'].split('/')[-1].split('_')[1]"
   ]
  },
  {
   "cell_type": "code",
   "execution_count": null,
   "id": "367b33de",
   "metadata": {},
   "outputs": [],
   "source": []
  }
 ],
 "metadata": {
  "kernelspec": {
   "display_name": "Python 3 (ipykernel)",
   "language": "python",
   "name": "python3"
  },
  "language_info": {
   "codemirror_mode": {
    "name": "ipython",
    "version": 3
   },
   "file_extension": ".py",
   "mimetype": "text/x-python",
   "name": "python",
   "nbconvert_exporter": "python",
   "pygments_lexer": "ipython3",
   "version": "3.10.6"
  },
  "toc": {
   "base_numbering": 1,
   "nav_menu": {},
   "number_sections": true,
   "sideBar": true,
   "skip_h1_title": false,
   "title_cell": "Table of Contents",
   "title_sidebar": "Contents",
   "toc_cell": false,
   "toc_position": {},
   "toc_section_display": true,
   "toc_window_display": true
  }
 },
 "nbformat": 4,
 "nbformat_minor": 5
}
