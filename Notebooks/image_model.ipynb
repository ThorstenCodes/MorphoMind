{
 "cells": [
  {
   "cell_type": "code",
   "execution_count": 1,
   "metadata": {},
   "outputs": [
    {
     "name": "stdout",
     "output_type": "stream",
     "text": [
      "/Users/thorsten/code/ThorstenCodes/MorphoMind/Notebooks\n"
     ]
    }
   ],
   "source": [
    "!pwd"
   ]
  },
  {
   "cell_type": "code",
   "execution_count": null,
   "metadata": {},
   "outputs": [],
   "source": [
    "from tensorflow.keras import models\n",
    "from tensorflow.keras import layers\n",
    "\n",
    "model = models.Sequential()\n",
    "model.add(layers.Conv2D(8, kernel_size=(4,4), activation = 'relu', input_shape = (224,224,5)))\n",
    "model.add(layers.Conv2D(16, kernel_size=(3,3), activation = 'relu'))\n",
    "model.add(layers.Conv2D(32, kernel_size=(2,2), activation = 'relu'))\n",
    "model.flattten\n"
   ]
  }
 ],
 "metadata": {
  "kernelspec": {
   "display_name": "MorphoMind",
   "language": "python",
   "name": "python3"
  },
  "language_info": {
   "codemirror_mode": {
    "name": "ipython",
    "version": 3
   },
   "file_extension": ".py",
   "mimetype": "text/x-python",
   "name": "python",
   "nbconvert_exporter": "python",
   "pygments_lexer": "ipython3",
   "version": "3.10.6"
  }
 },
 "nbformat": 4,
 "nbformat_minor": 2
}
