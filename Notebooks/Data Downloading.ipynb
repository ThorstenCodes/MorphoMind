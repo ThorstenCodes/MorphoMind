{
 "cells": [
  {
   "cell_type": "code",
   "execution_count": 7,
   "id": "5c7cec61",
   "metadata": {},
   "outputs": [],
   "source": [
    "PLATES = [\n",
    "    24302, 24585, 24639, 24774, 25576, 25689, 25935, 26166, 26545, 26672,\n",
    "    26794, 26203, 25911, 25572, 24750, 24564, 24277, 24644, 24792, 26576\n",
    "]\n",
    "CHANNELS = ['Hoechst', 'ERSyto', 'ERSytoBleed', 'Ph_golgi', 'Mito']\n",
    "\n",
    "preprocessed_data_urls = [f'https://ftp.cngb.org/pub/gigadb/pub/10.5524/100001_101000/100351/Plate_{i}.tar.gz' for i in PLATES]\n",
    "pictures_urls = [f'https://cildata.crbs.ucsd.edu/broad_data/plate_{i}/{i}-{channel}.zip' for i in PLATES for channel in CHANNELS]\n"
   ]
  },
  {
   "cell_type": "code",
   "execution_count": 8,
   "id": "3953c648",
   "metadata": {},
   "outputs": [
    {
     "data": {
      "text/plain": [
       "['https://ftp.cngb.org/pub/gigadb/pub/10.5524/100001_101000/100351/Plate_24302.tar.gz',\n",
       " 'https://ftp.cngb.org/pub/gigadb/pub/10.5524/100001_101000/100351/Plate_24585.tar.gz',\n",
       " 'https://ftp.cngb.org/pub/gigadb/pub/10.5524/100001_101000/100351/Plate_24639.tar.gz',\n",
       " 'https://ftp.cngb.org/pub/gigadb/pub/10.5524/100001_101000/100351/Plate_24774.tar.gz',\n",
       " 'https://ftp.cngb.org/pub/gigadb/pub/10.5524/100001_101000/100351/Plate_25576.tar.gz',\n",
       " 'https://ftp.cngb.org/pub/gigadb/pub/10.5524/100001_101000/100351/Plate_25689.tar.gz',\n",
       " 'https://ftp.cngb.org/pub/gigadb/pub/10.5524/100001_101000/100351/Plate_25935.tar.gz',\n",
       " 'https://ftp.cngb.org/pub/gigadb/pub/10.5524/100001_101000/100351/Plate_26166.tar.gz',\n",
       " 'https://ftp.cngb.org/pub/gigadb/pub/10.5524/100001_101000/100351/Plate_26545.tar.gz',\n",
       " 'https://ftp.cngb.org/pub/gigadb/pub/10.5524/100001_101000/100351/Plate_26672.tar.gz',\n",
       " 'https://ftp.cngb.org/pub/gigadb/pub/10.5524/100001_101000/100351/Plate_26794.tar.gz',\n",
       " 'https://ftp.cngb.org/pub/gigadb/pub/10.5524/100001_101000/100351/Plate_26203.tar.gz',\n",
       " 'https://ftp.cngb.org/pub/gigadb/pub/10.5524/100001_101000/100351/Plate_25911.tar.gz',\n",
       " 'https://ftp.cngb.org/pub/gigadb/pub/10.5524/100001_101000/100351/Plate_25572.tar.gz',\n",
       " 'https://ftp.cngb.org/pub/gigadb/pub/10.5524/100001_101000/100351/Plate_24750.tar.gz',\n",
       " 'https://ftp.cngb.org/pub/gigadb/pub/10.5524/100001_101000/100351/Plate_24564.tar.gz',\n",
       " 'https://ftp.cngb.org/pub/gigadb/pub/10.5524/100001_101000/100351/Plate_24277.tar.gz',\n",
       " 'https://ftp.cngb.org/pub/gigadb/pub/10.5524/100001_101000/100351/Plate_24644.tar.gz',\n",
       " 'https://ftp.cngb.org/pub/gigadb/pub/10.5524/100001_101000/100351/Plate_24792.tar.gz',\n",
       " 'https://ftp.cngb.org/pub/gigadb/pub/10.5524/100001_101000/100351/Plate_26576.tar.gz']"
      ]
     },
     "execution_count": 8,
     "metadata": {},
     "output_type": "execute_result"
    }
   ],
   "source": [
    "preprocessed_data_urls"
   ]
  },
  {
   "cell_type": "code",
   "execution_count": 9,
   "id": "fdb4bfa3",
   "metadata": {},
   "outputs": [
    {
     "data": {
      "text/plain": [
       "['https://cildata.crbs.ucsd.edu/broad_data/plate_24302/24302-Hoechst.zip',\n",
       " 'https://cildata.crbs.ucsd.edu/broad_data/plate_24302/24302-ERSyto.zip',\n",
       " 'https://cildata.crbs.ucsd.edu/broad_data/plate_24302/24302-ERSytoBleed.zip',\n",
       " 'https://cildata.crbs.ucsd.edu/broad_data/plate_24302/24302-Ph_golgi.zip',\n",
       " 'https://cildata.crbs.ucsd.edu/broad_data/plate_24302/24302-Mito.zip',\n",
       " 'https://cildata.crbs.ucsd.edu/broad_data/plate_24585/24585-Hoechst.zip',\n",
       " 'https://cildata.crbs.ucsd.edu/broad_data/plate_24585/24585-ERSyto.zip',\n",
       " 'https://cildata.crbs.ucsd.edu/broad_data/plate_24585/24585-ERSytoBleed.zip',\n",
       " 'https://cildata.crbs.ucsd.edu/broad_data/plate_24585/24585-Ph_golgi.zip',\n",
       " 'https://cildata.crbs.ucsd.edu/broad_data/plate_24585/24585-Mito.zip',\n",
       " 'https://cildata.crbs.ucsd.edu/broad_data/plate_24639/24639-Hoechst.zip',\n",
       " 'https://cildata.crbs.ucsd.edu/broad_data/plate_24639/24639-ERSyto.zip',\n",
       " 'https://cildata.crbs.ucsd.edu/broad_data/plate_24639/24639-ERSytoBleed.zip',\n",
       " 'https://cildata.crbs.ucsd.edu/broad_data/plate_24639/24639-Ph_golgi.zip',\n",
       " 'https://cildata.crbs.ucsd.edu/broad_data/plate_24639/24639-Mito.zip',\n",
       " 'https://cildata.crbs.ucsd.edu/broad_data/plate_24774/24774-Hoechst.zip',\n",
       " 'https://cildata.crbs.ucsd.edu/broad_data/plate_24774/24774-ERSyto.zip',\n",
       " 'https://cildata.crbs.ucsd.edu/broad_data/plate_24774/24774-ERSytoBleed.zip',\n",
       " 'https://cildata.crbs.ucsd.edu/broad_data/plate_24774/24774-Ph_golgi.zip',\n",
       " 'https://cildata.crbs.ucsd.edu/broad_data/plate_24774/24774-Mito.zip',\n",
       " 'https://cildata.crbs.ucsd.edu/broad_data/plate_25576/25576-Hoechst.zip',\n",
       " 'https://cildata.crbs.ucsd.edu/broad_data/plate_25576/25576-ERSyto.zip',\n",
       " 'https://cildata.crbs.ucsd.edu/broad_data/plate_25576/25576-ERSytoBleed.zip',\n",
       " 'https://cildata.crbs.ucsd.edu/broad_data/plate_25576/25576-Ph_golgi.zip',\n",
       " 'https://cildata.crbs.ucsd.edu/broad_data/plate_25576/25576-Mito.zip',\n",
       " 'https://cildata.crbs.ucsd.edu/broad_data/plate_25689/25689-Hoechst.zip',\n",
       " 'https://cildata.crbs.ucsd.edu/broad_data/plate_25689/25689-ERSyto.zip',\n",
       " 'https://cildata.crbs.ucsd.edu/broad_data/plate_25689/25689-ERSytoBleed.zip',\n",
       " 'https://cildata.crbs.ucsd.edu/broad_data/plate_25689/25689-Ph_golgi.zip',\n",
       " 'https://cildata.crbs.ucsd.edu/broad_data/plate_25689/25689-Mito.zip',\n",
       " 'https://cildata.crbs.ucsd.edu/broad_data/plate_25935/25935-Hoechst.zip',\n",
       " 'https://cildata.crbs.ucsd.edu/broad_data/plate_25935/25935-ERSyto.zip',\n",
       " 'https://cildata.crbs.ucsd.edu/broad_data/plate_25935/25935-ERSytoBleed.zip',\n",
       " 'https://cildata.crbs.ucsd.edu/broad_data/plate_25935/25935-Ph_golgi.zip',\n",
       " 'https://cildata.crbs.ucsd.edu/broad_data/plate_25935/25935-Mito.zip',\n",
       " 'https://cildata.crbs.ucsd.edu/broad_data/plate_26166/26166-Hoechst.zip',\n",
       " 'https://cildata.crbs.ucsd.edu/broad_data/plate_26166/26166-ERSyto.zip',\n",
       " 'https://cildata.crbs.ucsd.edu/broad_data/plate_26166/26166-ERSytoBleed.zip',\n",
       " 'https://cildata.crbs.ucsd.edu/broad_data/plate_26166/26166-Ph_golgi.zip',\n",
       " 'https://cildata.crbs.ucsd.edu/broad_data/plate_26166/26166-Mito.zip',\n",
       " 'https://cildata.crbs.ucsd.edu/broad_data/plate_26545/26545-Hoechst.zip',\n",
       " 'https://cildata.crbs.ucsd.edu/broad_data/plate_26545/26545-ERSyto.zip',\n",
       " 'https://cildata.crbs.ucsd.edu/broad_data/plate_26545/26545-ERSytoBleed.zip',\n",
       " 'https://cildata.crbs.ucsd.edu/broad_data/plate_26545/26545-Ph_golgi.zip',\n",
       " 'https://cildata.crbs.ucsd.edu/broad_data/plate_26545/26545-Mito.zip',\n",
       " 'https://cildata.crbs.ucsd.edu/broad_data/plate_26672/26672-Hoechst.zip',\n",
       " 'https://cildata.crbs.ucsd.edu/broad_data/plate_26672/26672-ERSyto.zip',\n",
       " 'https://cildata.crbs.ucsd.edu/broad_data/plate_26672/26672-ERSytoBleed.zip',\n",
       " 'https://cildata.crbs.ucsd.edu/broad_data/plate_26672/26672-Ph_golgi.zip',\n",
       " 'https://cildata.crbs.ucsd.edu/broad_data/plate_26672/26672-Mito.zip',\n",
       " 'https://cildata.crbs.ucsd.edu/broad_data/plate_26794/26794-Hoechst.zip',\n",
       " 'https://cildata.crbs.ucsd.edu/broad_data/plate_26794/26794-ERSyto.zip',\n",
       " 'https://cildata.crbs.ucsd.edu/broad_data/plate_26794/26794-ERSytoBleed.zip',\n",
       " 'https://cildata.crbs.ucsd.edu/broad_data/plate_26794/26794-Ph_golgi.zip',\n",
       " 'https://cildata.crbs.ucsd.edu/broad_data/plate_26794/26794-Mito.zip',\n",
       " 'https://cildata.crbs.ucsd.edu/broad_data/plate_26203/26203-Hoechst.zip',\n",
       " 'https://cildata.crbs.ucsd.edu/broad_data/plate_26203/26203-ERSyto.zip',\n",
       " 'https://cildata.crbs.ucsd.edu/broad_data/plate_26203/26203-ERSytoBleed.zip',\n",
       " 'https://cildata.crbs.ucsd.edu/broad_data/plate_26203/26203-Ph_golgi.zip',\n",
       " 'https://cildata.crbs.ucsd.edu/broad_data/plate_26203/26203-Mito.zip',\n",
       " 'https://cildata.crbs.ucsd.edu/broad_data/plate_25911/25911-Hoechst.zip',\n",
       " 'https://cildata.crbs.ucsd.edu/broad_data/plate_25911/25911-ERSyto.zip',\n",
       " 'https://cildata.crbs.ucsd.edu/broad_data/plate_25911/25911-ERSytoBleed.zip',\n",
       " 'https://cildata.crbs.ucsd.edu/broad_data/plate_25911/25911-Ph_golgi.zip',\n",
       " 'https://cildata.crbs.ucsd.edu/broad_data/plate_25911/25911-Mito.zip',\n",
       " 'https://cildata.crbs.ucsd.edu/broad_data/plate_25572/25572-Hoechst.zip',\n",
       " 'https://cildata.crbs.ucsd.edu/broad_data/plate_25572/25572-ERSyto.zip',\n",
       " 'https://cildata.crbs.ucsd.edu/broad_data/plate_25572/25572-ERSytoBleed.zip',\n",
       " 'https://cildata.crbs.ucsd.edu/broad_data/plate_25572/25572-Ph_golgi.zip',\n",
       " 'https://cildata.crbs.ucsd.edu/broad_data/plate_25572/25572-Mito.zip',\n",
       " 'https://cildata.crbs.ucsd.edu/broad_data/plate_24750/24750-Hoechst.zip',\n",
       " 'https://cildata.crbs.ucsd.edu/broad_data/plate_24750/24750-ERSyto.zip',\n",
       " 'https://cildata.crbs.ucsd.edu/broad_data/plate_24750/24750-ERSytoBleed.zip',\n",
       " 'https://cildata.crbs.ucsd.edu/broad_data/plate_24750/24750-Ph_golgi.zip',\n",
       " 'https://cildata.crbs.ucsd.edu/broad_data/plate_24750/24750-Mito.zip',\n",
       " 'https://cildata.crbs.ucsd.edu/broad_data/plate_24564/24564-Hoechst.zip',\n",
       " 'https://cildata.crbs.ucsd.edu/broad_data/plate_24564/24564-ERSyto.zip',\n",
       " 'https://cildata.crbs.ucsd.edu/broad_data/plate_24564/24564-ERSytoBleed.zip',\n",
       " 'https://cildata.crbs.ucsd.edu/broad_data/plate_24564/24564-Ph_golgi.zip',\n",
       " 'https://cildata.crbs.ucsd.edu/broad_data/plate_24564/24564-Mito.zip',\n",
       " 'https://cildata.crbs.ucsd.edu/broad_data/plate_24277/24277-Hoechst.zip',\n",
       " 'https://cildata.crbs.ucsd.edu/broad_data/plate_24277/24277-ERSyto.zip',\n",
       " 'https://cildata.crbs.ucsd.edu/broad_data/plate_24277/24277-ERSytoBleed.zip',\n",
       " 'https://cildata.crbs.ucsd.edu/broad_data/plate_24277/24277-Ph_golgi.zip',\n",
       " 'https://cildata.crbs.ucsd.edu/broad_data/plate_24277/24277-Mito.zip',\n",
       " 'https://cildata.crbs.ucsd.edu/broad_data/plate_24644/24644-Hoechst.zip',\n",
       " 'https://cildata.crbs.ucsd.edu/broad_data/plate_24644/24644-ERSyto.zip',\n",
       " 'https://cildata.crbs.ucsd.edu/broad_data/plate_24644/24644-ERSytoBleed.zip',\n",
       " 'https://cildata.crbs.ucsd.edu/broad_data/plate_24644/24644-Ph_golgi.zip',\n",
       " 'https://cildata.crbs.ucsd.edu/broad_data/plate_24644/24644-Mito.zip',\n",
       " 'https://cildata.crbs.ucsd.edu/broad_data/plate_24792/24792-Hoechst.zip',\n",
       " 'https://cildata.crbs.ucsd.edu/broad_data/plate_24792/24792-ERSyto.zip',\n",
       " 'https://cildata.crbs.ucsd.edu/broad_data/plate_24792/24792-ERSytoBleed.zip',\n",
       " 'https://cildata.crbs.ucsd.edu/broad_data/plate_24792/24792-Ph_golgi.zip',\n",
       " 'https://cildata.crbs.ucsd.edu/broad_data/plate_24792/24792-Mito.zip',\n",
       " 'https://cildata.crbs.ucsd.edu/broad_data/plate_26576/26576-Hoechst.zip',\n",
       " 'https://cildata.crbs.ucsd.edu/broad_data/plate_26576/26576-ERSyto.zip',\n",
       " 'https://cildata.crbs.ucsd.edu/broad_data/plate_26576/26576-ERSytoBleed.zip',\n",
       " 'https://cildata.crbs.ucsd.edu/broad_data/plate_26576/26576-Ph_golgi.zip',\n",
       " 'https://cildata.crbs.ucsd.edu/broad_data/plate_26576/26576-Mito.zip']"
      ]
     },
     "execution_count": 9,
     "metadata": {},
     "output_type": "execute_result"
    }
   ],
   "source": [
    "pictures_urls"
   ]
  }
 ],
 "metadata": {
  "kernelspec": {
   "display_name": "Python 3 (ipykernel)",
   "language": "python",
   "name": "python3"
  },
  "language_info": {
   "codemirror_mode": {
    "name": "ipython",
    "version": 3
   },
   "file_extension": ".py",
   "mimetype": "text/x-python",
   "name": "python",
   "nbconvert_exporter": "python",
   "pygments_lexer": "ipython3",
   "version": "3.10.6"
  },
  "toc": {
   "base_numbering": 1,
   "nav_menu": {},
   "number_sections": true,
   "sideBar": true,
   "skip_h1_title": false,
   "title_cell": "Table of Contents",
   "title_sidebar": "Contents",
   "toc_cell": false,
   "toc_position": {},
   "toc_section_display": true,
   "toc_window_display": false
  }
 },
 "nbformat": 4,
 "nbformat_minor": 5
}
