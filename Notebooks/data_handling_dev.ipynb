{
 "cells": [
  {
   "cell_type": "markdown",
   "id": "fde649c8",
   "metadata": {},
   "source": [
    "# Data retrieval and cleaning"
   ]
  },
  {
   "cell_type": "markdown",
   "id": "16f9e845",
   "metadata": {},
   "source": [
    "We import basic libraries"
   ]
  },
  {
   "cell_type": "code",
   "execution_count": 1,
   "id": "057ed758",
   "metadata": {},
   "outputs": [],
   "source": [
    "import pandas as pd\n",
    "import numpy as np\n",
    "from google.cloud import storage\n",
    "import os\n",
    "from pathlib import Path\n",
    "from tqdm.std import tqdm\n",
    "import sqlite3\n",
    "from google.cloud import bigquery"
   ]
  },
  {
   "cell_type": "markdown",
   "id": "5e457311",
   "metadata": {},
   "source": [
    "## Retrieval and Storage of Basic files from Google Cloud Storage"
   ]
  },
  {
   "cell_type": "code",
   "execution_count": 2,
   "id": "829230c8",
   "metadata": {},
   "outputs": [],
   "source": [
    "BUCKET_NAME = 'raw_profiles'\n",
    "PLATE_NUMBER = '24277'\n",
    "LOCAL_DATA_PATH = os.path.join(os.path.expanduser('~'), \".morpho_minds_data\")\n",
    "MODEL_TARGET = 'local'"
   ]
  },
  {
   "cell_type": "code",
   "execution_count": 3,
   "id": "3fcc539e",
   "metadata": {},
   "outputs": [],
   "source": [
    "def create_folder_structure(plate_number):\n",
    "        \"\"\"\n",
    "        Check for folder structure and create it when needed.\n",
    "        \"\"\"\n",
    "        ## Check if data folders exists. If not, create it.\n",
    "        if not os.path.exists(LOCAL_DATA_PATH):\n",
    "            os.makedirs(LOCAL_DATA_PATH)\n",
    "            os.makedirs(Path(LOCAL_DATA_PATH).joinpath(plate_number, 'raw'))\n",
    "            os.makedirs(Path(LOCAL_DATA_PATH).joinpath(plate_number, 'processed'))\n",
    "\n",
    "        if not os.path.exists(Path(LOCAL_DATA_PATH).joinpath(plate_number)):\n",
    "            os.makedirs(Path(LOCAL_DATA_PATH).joinpath(plate_number))\n",
    "            os.makedirs(Path(LOCAL_DATA_PATH).joinpath(plate_number, 'raw'))\n",
    "            os.makedirs(Path(LOCAL_DATA_PATH).joinpath(plate_number, 'processed'))\n",
    "\n",
    "        if not os.path.exists(Path(LOCAL_DATA_PATH).joinpath(plate_number, 'raw')):\n",
    "            os.makedirs(Path(LOCAL_DATA_PATH).joinpath(plate_number, 'raw'))\n",
    "\n",
    "        if not os.path.exists(Path(LOCAL_DATA_PATH).joinpath(plate_number, 'processed')):\n",
    "            os.makedirs(Path(LOCAL_DATA_PATH).joinpath(plate_number, 'processed'))"
   ]
  },
  {
   "cell_type": "code",
   "execution_count": 4,
   "id": "e852df0d",
   "metadata": {},
   "outputs": [],
   "source": [
    "def download_blob(bucket_name, source_blob_name, destination_file_name):\n",
    "    \"\"\"\n",
    "    Download a file from GCS. Is called blob so is generic but will retrieve the SQLite DB.\n",
    "\n",
    "    :param bucket_name: The name of the bucket\n",
    "    :param source_blob_name: The name of the blob\n",
    "    :param destination_file_name: The name of the file to save the blob to\n",
    "    \"\"\"\n",
    "    # Initialize a client\n",
    "    storage_client = storage.Client()\n",
    "    # Get the bucket\n",
    "    bucket = storage_client.bucket(bucket_name)\n",
    "    # Get the blob\n",
    "    blob = bucket.blob(source_blob_name)\n",
    "    # Download the blob to a destination file\n",
    "    with open(destination_file_name, 'wb') as f:\n",
    "        with tqdm.wrapattr(f, \"write\", total=blob.size) as file_obj:\n",
    "            storage_client.download_blob_to_file(blob, file_obj)\n"
   ]
  },
  {
   "cell_type": "markdown",
   "id": "f57203d0",
   "metadata": {},
   "source": [
    "## Merge of Dataframes into Useful Data"
   ]
  },
  {
   "cell_type": "code",
   "execution_count": 5,
   "id": "e2afad62",
   "metadata": {},
   "outputs": [],
   "source": [
    "# AGP == Ph-golgi\n",
    "# DNA == Hoechst\n",
    "# ER == ERSyto\n",
    "# Mito == Mito\n",
    "# RNA == ERSytoBleed"
   ]
  },
  {
   "cell_type": "code",
   "execution_count": 131,
   "id": "6ddb700c",
   "metadata": {},
   "outputs": [
    {
     "name": "stdout",
     "output_type": "stream",
     "text": [
      "Loading local data...\n",
      "Local processed file not found. Trying to retrieve data from Big Query...\n",
      "Big Query data not found. Retrieving data from remote server...\n",
      "Loading Chemical Annotations from local CSV...\n",
      "Loading SQLite DB from local DB...\n",
      "Loading Well Profiles from local CSV...\n",
      "✅ Data loaded successfully.\n",
      "Extracting well from picture file name...\n",
      "Extracting photo id from picture file name...\n",
      "Converting photo path for training...\n",
      "Concatenating...\n",
      "Identifying drugs used per well...\n",
      "✅ Data Merged\n"
     ]
    }
   ],
   "source": [
    "class Plate:\n",
    "    def __init__(self, plate_number=None, chem_df=None, images_df=None, well_df=None, plate_df=None):\n",
    "        self.plate_number = plate_number\n",
    "        self.chem_df = chem_df\n",
    "        self.images_df = images_df\n",
    "        self.well_df = well_df\n",
    "        self.plate_df = plate_df\n",
    "        self.chem_cols = ['BROAD_ID', 'CPD_NAME', 'CPD_NAME_TYPE', 'SOURCE_NAME', 'CPD_SMILES']\n",
    "        self.well_cols = ['Metadata_Well', 'Metadata_ASSAY_WELL_ROLE', 'Metadata_broad_sample', 'Metadata_mmoles_per_liter']\n",
    "\n",
    "\n",
    "    def load(self):\n",
    "        \"\"\"\n",
    "        Load the data from the local or remote source.\n",
    "        \"\"\"\n",
    "        if MODEL_TARGET == 'local':\n",
    "            print('Loading local data...')\n",
    "            pictures_dir = Path(LOCAL_DATA_PATH).joinpath(PLATE_NUMBER, 'raw', 'raw_pictures')\n",
    "            processed_file = Path(LOCAL_DATA_PATH).joinpath(PLATE_NUMBER, 'processed', f'{PLATE_NUMBER}_processed.csv')\n",
    "            if not pictures_dir.is_dir():\n",
    "                print('Local pictures not found. Please make sure the data is available in the local folder.')\n",
    "                exit(1)\n",
    "            elif not processed_file.is_file():\n",
    "                print('Local processed file not found. Trying to retrieve data from Big Query...')\n",
    "                try:\n",
    "                    full_table_name = f\"{GCP_PROJECT}.{BQ_DATASET}.{PLATE_NUMBER}_processed\"\n",
    "                    data = big_query_read(GCP_PROJECT, full_table_name)\n",
    "                    data = data.to_dataframe()\n",
    "\n",
    "                    # Save it locally to accelerate the next queries!\n",
    "                    self.processed_df = data.to_csv(processed_file, header=True, index=False)\n",
    "                except:\n",
    "                    print('Big Query data not found. Retrieving data from remote server...')\n",
    "                    self.retrieve_data()\n",
    "                    self.merge_data()\n",
    "                    #self.save()\n",
    "\n",
    "        if MODEL_TARGET == 'prod':\n",
    "\n",
    "            print('Malo')\n",
    "\n",
    "    def retrieve_data(self):\n",
    "        \"\"\"\n",
    "        Load the all the plate data into different dataframes.\n",
    "        \"\"\"\n",
    "        # Check for folder structure and create it when needed.\n",
    "        create_folder_structure(self.plate_number)\n",
    "\n",
    "        ## Check that file chemical_compounds.csv exists locally. If not, download it.\n",
    "        data_query_cache_path = Path(LOCAL_DATA_PATH).joinpath(self.plate_number, 'chemical_annotations.csv')\n",
    "        data_query_cached_exists = data_query_cache_path.is_file()\n",
    "\n",
    "        if data_query_cached_exists:\n",
    "            print('Loading Chemical Annotations from local CSV...')\n",
    "            self.chem_df = pd.read_csv(data_query_cache_path)\n",
    "            \n",
    "        else:\n",
    "            print('Loading Chemical Annotations from remote server...')\n",
    "            download_blob(BUCKET_NAME,\n",
    "                        f'{self.plate_number}/chemical_annotations.csv',\n",
    "                        Path(LOCAL_DATA_PATH).joinpath(self.plate_number, 'chemical_annotations.csv')\n",
    "                        )\n",
    "            \n",
    "            self.chem_df = pd.read_csv(data_query_cache_path)\n",
    "        self.chem_df = self.chem_df[self.chem_cols]\n",
    "        self.chem_df.rename(columns={'BROAD_ID': 'DrugID',\n",
    "                                     'CPD_NAME': 'CPDName',\n",
    "                                     'CPD_NAME_TYPE': 'CPDTypeName',\n",
    "                                     'SOURCE_NAME': 'SourceName',\n",
    "                                     'CPD_SMILES': 'CPDSmiles'}, inplace=True)\n",
    "\n",
    "        ## Check that sqlite db exists locally. If not, download it.\n",
    "        data_query_cache_path = Path(LOCAL_DATA_PATH).joinpath(self.plate_number, 'raw', f'{self.plate_number}.sqlite')\n",
    "        data_query_cached_exists = data_query_cache_path.is_file()\n",
    "\n",
    "        if data_query_cached_exists:\n",
    "            print('Loading SQLite DB from local DB...')\n",
    "        else:\n",
    "            print('Loading SQLite DB from remote DB...')\n",
    "            download_blob(BUCKET_NAME,\n",
    "                        f'{self.plate_number}/{self.plate_number}.sqlite',\n",
    "                        Path(LOCAL_DATA_PATH).joinpath(self.plate_number, 'raw', f'{self.plate_number}.sqlite')\n",
    "                        )\n",
    "\n",
    "        conn = sqlite3.connect(data_query_cache_path)\n",
    "        query = \"\"\"\n",
    "                SELECT Image_URL_OrigAGP, Image_URL_OrigDNA, Image_URL_OrigER, Image_URL_OrigMito, Image_URL_OrigRNA, Image_Count_Cells\n",
    "                FROM Image\n",
    "                \"\"\"\n",
    "        cursor = conn.execute(query)\n",
    "        data = cursor.fetchall()\n",
    "        self.images_df = pd.DataFrame(data, columns=['Ph-golgi', 'Hoechst', 'ERSyto', 'Mito', 'ERSytoBleed', 'CellCount'])\n",
    "\n",
    "        conn.close()\n",
    "\n",
    "        ## Check that mean_well_profile.csv exists. If not, download it.\n",
    "        data_query_cache_path = Path(LOCAL_DATA_PATH).joinpath(self.plate_number, 'raw', 'mean_well_profiles.csv')\n",
    "        data_query_cached_exists = data_query_cache_path.is_file()\n",
    "\n",
    "        if data_query_cached_exists:\n",
    "            print('Loading Well Profiles from local CSV...')\n",
    "            self.well_df = pd.read_csv(data_query_cache_path)\n",
    "        else:\n",
    "            print('Loading Well Profiles from remote server...')\n",
    "            download_blob(BUCKET_NAME,\n",
    "                        f'{self.plate_number}/mean_well_profiles.csv',\n",
    "                        Path(LOCAL_DATA_PATH).joinpath(self.plate_number, 'raw', 'mean_well_profiles.csv')\n",
    "                        )\n",
    "            self.well_df = pd.read_csv(data_query_cache_path)\n",
    "        self.well_df = self.well_df[self.well_cols]\n",
    "        self.well_df.rename(columns={'Metadata_Well': 'Well', \n",
    "                                                    'Metadata_ASSAY_WELL_ROLE': 'Role', \n",
    "                                                    'Metadata_broad_sample': 'DrugID', \n",
    "                                                    'Metadata_mmoles_per_liter': 'MMoles'}, inplace=True)\n",
    "        \n",
    "        print('✅ Data loaded successfully.')\n",
    "\n",
    "        return self\n",
    "\n",
    "    def merge_data(self):\n",
    "        \"\"\"\n",
    "        Clean the data.\n",
    "        \"\"\"\n",
    "        print('Extracting well from picture file name...')\n",
    "        wells_df = self.images_df.drop(columns=['CellCount']).applymap(lambda x: x.split('/')[-1].split('_')[1])\n",
    "        wells_df['Well'] = wells_df.apply(lambda row: row.unique()[0] if row.nunique()==1 else 0, axis=1)\n",
    "\n",
    "        print('Extracting photo id from picture file name...')\n",
    "        photo_number_df = self.images_df.drop(columns=['CellCount',]).applymap(lambda x: x.split('/')[-1].split('_')[2])\n",
    "        photo_number_df['PhotoNumber'] = photo_number_df.apply(lambda row: int(row.unique()[0][1]) if row.nunique()==1 else float('NaN'), axis=1)\n",
    "\n",
    "        print('Converting photo path for training...')\n",
    "        self.images_df['Ph-golgi'] = self.images_df['Ph-golgi'].apply(lambda x: str(Path(LOCAL_DATA_PATH).joinpath(PLATE_NUMBER, 'Raw_pictures', f'{PLATE_NUMBER}-Ph_golgi', x.split('/')[-1])))\n",
    "        self.images_df['Hoechst'] = self.images_df['Hoechst'].apply(lambda x: str(Path(LOCAL_DATA_PATH).joinpath(PLATE_NUMBER, 'Raw_pictures', f'{PLATE_NUMBER}-Hoechst', x.split('/')[-1])))\n",
    "        self.images_df['ERSyto'] = self.images_df['ERSyto'].apply(lambda x: str(Path(LOCAL_DATA_PATH).joinpath(PLATE_NUMBER, 'Raw_pictures', f'{PLATE_NUMBER}-ERSyto', x.split('/')[-1])))\n",
    "        self.images_df['Mito'] = self.images_df['Mito'].apply(lambda x: str(Path(LOCAL_DATA_PATH).joinpath(PLATE_NUMBER, 'Raw_pictures', f'{PLATE_NUMBER}-Mito', x.split('/')[-1])))\n",
    "        self.images_df['ERSytoBleed'] = self.images_df['ERSytoBleed'].apply(lambda x: str(Path(LOCAL_DATA_PATH).joinpath(PLATE_NUMBER, 'Raw_pictures', f'{PLATE_NUMBER}-ERSytoBleed', x.split('/')[-1])))\n",
    "\n",
    "        print('Concatenating...')\n",
    "        self.concat_df = pd.concat([\n",
    "            self.images_df,\n",
    "            wells_df['Well'],\n",
    "            photo_number_df['PhotoNumber'].astype('int8'),\n",
    "        ],\n",
    "        axis = 1)\n",
    "        \n",
    "        self.concat_df[['CellCount']] = self.concat_df[['CellCount']].astype('int8')\n",
    "        self.well_df[['MMoles']] = self.well_df[['MMoles']].astype('float16')\n",
    "\n",
    "        print('Identifying drugs used per well...')\n",
    "\n",
    "        self.processed_df = self.concat_df.merge(self.well_df).merge(self.chem_df, how='left', on='DrugID').fillna('None')\n",
    "\n",
    "        print('✅ Data Merged')\n",
    "        \n",
    "    def save(self):\n",
    "        pass\n",
    "            \n",
    "plate = Plate('24277')\n",
    "plate.load()\n",
    "images_df = plate.images_df\n",
    "chem_df = plate.chem_df\n",
    "well_df = plate.well_df\n",
    "concat_df = plate.concat_df\n",
    "processed_df = plate.processed_df"
   ]
  },
  {
   "cell_type": "code",
   "execution_count": 132,
   "id": "902e58ea",
   "metadata": {},
   "outputs": [
    {
     "data": {
      "text/plain": [
       "(2297, 15)"
      ]
     },
     "execution_count": 132,
     "metadata": {},
     "output_type": "execute_result"
    }
   ],
   "source": [
    "processed_df.shape"
   ]
  },
  {
   "cell_type": "code",
   "execution_count": 133,
   "id": "0b66fdb1",
   "metadata": {},
   "outputs": [
    {
     "data": {
      "text/plain": [
       "Ph-golgi       0\n",
       "Hoechst        0\n",
       "ERSyto         0\n",
       "Mito           0\n",
       "ERSytoBleed    0\n",
       "CellCount      0\n",
       "Well           0\n",
       "PhotoNumber    0\n",
       "Role           0\n",
       "DrugID         0\n",
       "MMoles         0\n",
       "CPDName        0\n",
       "CPDTypeName    0\n",
       "SourceName     0\n",
       "CPDSmiles      0\n",
       "dtype: int64"
      ]
     },
     "execution_count": 133,
     "metadata": {},
     "output_type": "execute_result"
    }
   ],
   "source": [
    "processed_df.isna().sum()"
   ]
  },
  {
   "cell_type": "code",
   "execution_count": 134,
   "id": "3e1cc0d9",
   "metadata": {},
   "outputs": [
    {
     "data": {
      "text/plain": [
       "Ph-golgi       /Users/pepe/.morpho_minds_data/24277/Raw_pictu...\n",
       "Hoechst        /Users/pepe/.morpho_minds_data/24277/Raw_pictu...\n",
       "ERSyto         /Users/pepe/.morpho_minds_data/24277/Raw_pictu...\n",
       "Mito           /Users/pepe/.morpho_minds_data/24277/Raw_pictu...\n",
       "ERSytoBleed    /Users/pepe/.morpho_minds_data/24277/Raw_pictu...\n",
       "CellCount                                                     91\n",
       "Well                                                         a01\n",
       "PhotoNumber                                                    1\n",
       "Role                                                     treated\n",
       "DrugID                                    BRD-K18250272-003-03-7\n",
       "MMoles                                                  3.023438\n",
       "CPDName                                             propoxycaine\n",
       "CPDTypeName                                                  INN\n",
       "SourceName                               Prestwick Chemical Inc.\n",
       "CPDSmiles                         CCCOc1cc(N)ccc1C(=O)OCCN(CC)CC\n",
       "Name: 0, dtype: object"
      ]
     },
     "metadata": {},
     "output_type": "display_data"
    },
    {
     "data": {
      "text/plain": [
       "\"0 Column Ph-golgi is of type <class 'str'>\""
      ]
     },
     "metadata": {},
     "output_type": "display_data"
    },
    {
     "data": {
      "text/plain": [
       "\"1 Column Hoechst is of type <class 'str'>\""
      ]
     },
     "metadata": {},
     "output_type": "display_data"
    },
    {
     "data": {
      "text/plain": [
       "\"2 Column ERSyto is of type <class 'str'>\""
      ]
     },
     "metadata": {},
     "output_type": "display_data"
    },
    {
     "data": {
      "text/plain": [
       "\"3 Column Mito is of type <class 'str'>\""
      ]
     },
     "metadata": {},
     "output_type": "display_data"
    },
    {
     "data": {
      "text/plain": [
       "\"4 Column ERSytoBleed is of type <class 'str'>\""
      ]
     },
     "metadata": {},
     "output_type": "display_data"
    },
    {
     "data": {
      "text/plain": [
       "\"5 Column CellCount is of type <class 'numpy.int8'>\""
      ]
     },
     "metadata": {},
     "output_type": "display_data"
    },
    {
     "data": {
      "text/plain": [
       "\"6 Column Well is of type <class 'str'>\""
      ]
     },
     "metadata": {},
     "output_type": "display_data"
    },
    {
     "data": {
      "text/plain": [
       "\"7 Column PhotoNumber is of type <class 'numpy.int8'>\""
      ]
     },
     "metadata": {},
     "output_type": "display_data"
    },
    {
     "data": {
      "text/plain": [
       "\"8 Column Role is of type <class 'str'>\""
      ]
     },
     "metadata": {},
     "output_type": "display_data"
    },
    {
     "data": {
      "text/plain": [
       "\"9 Column DrugID is of type <class 'str'>\""
      ]
     },
     "metadata": {},
     "output_type": "display_data"
    },
    {
     "data": {
      "text/plain": [
       "\"10 Column MMoles is of type <class 'numpy.float16'>\""
      ]
     },
     "metadata": {},
     "output_type": "display_data"
    },
    {
     "data": {
      "text/plain": [
       "\"11 Column CPDName is of type <class 'str'>\""
      ]
     },
     "metadata": {},
     "output_type": "display_data"
    },
    {
     "data": {
      "text/plain": [
       "\"12 Column CPDTypeName is of type <class 'str'>\""
      ]
     },
     "metadata": {},
     "output_type": "display_data"
    },
    {
     "data": {
      "text/plain": [
       "\"13 Column SourceName is of type <class 'str'>\""
      ]
     },
     "metadata": {},
     "output_type": "display_data"
    },
    {
     "data": {
      "text/plain": [
       "\"14 Column CPDSmiles is of type <class 'str'>\""
      ]
     },
     "metadata": {},
     "output_type": "display_data"
    }
   ],
   "source": [
    "series_1 = processed_df.iloc[0,:]\n",
    "display(series_1)\n",
    "for i in range(len(series_1)):\n",
    "    display(f'{i} Column {series_1.keys()[i]} is of type {type(series_1[i])}')"
   ]
  },
  {
   "cell_type": "code",
   "execution_count": null,
   "id": "d0a4a2ea",
   "metadata": {},
   "outputs": [],
   "source": []
  },
  {
   "cell_type": "code",
   "execution_count": null,
   "id": "07808a49",
   "metadata": {},
   "outputs": [],
   "source": []
  },
  {
   "cell_type": "code",
   "execution_count": 113,
   "id": "5e6b2e89",
   "metadata": {},
   "outputs": [
    {
     "data": {
      "text/plain": [
       "(2297, 15)"
      ]
     },
     "execution_count": 113,
     "metadata": {},
     "output_type": "execute_result"
    }
   ],
   "source": [
    "second_merge = concat_df.merge(well_df).merge(chem_df, how='left', on='DrugID')\n",
    "second_merge.shape"
   ]
  },
  {
   "cell_type": "code",
   "execution_count": 114,
   "id": "e1ee3b91",
   "metadata": {},
   "outputs": [
    {
     "data": {
      "text/plain": [
       "Ph-golgi         0\n",
       "Hoechst          0\n",
       "ERSyto           0\n",
       "Mito             0\n",
       "ERSytoBleed      0\n",
       "CellCount        0\n",
       "Well             0\n",
       "PhotoNumber      0\n",
       "Role             0\n",
       "DrugID           0\n",
       "MMoles           0\n",
       "CPDName        384\n",
       "CPDTypeName    384\n",
       "SourceName     384\n",
       "CPDSmiles      384\n",
       "dtype: int64"
      ]
     },
     "execution_count": 114,
     "metadata": {},
     "output_type": "execute_result"
    }
   ],
   "source": [
    "second_merge.isna().sum()"
   ]
  },
  {
   "cell_type": "code",
   "execution_count": 115,
   "id": "d5113d58",
   "metadata": {},
   "outputs": [
    {
     "data": {
      "text/plain": [
       "Ph-golgi       0\n",
       "Hoechst        0\n",
       "ERSyto         0\n",
       "Mito           0\n",
       "ERSytoBleed    0\n",
       "CellCount      0\n",
       "Well           0\n",
       "PhotoNumber    0\n",
       "Role           0\n",
       "DrugID         0\n",
       "MMoles         0\n",
       "CPDName        0\n",
       "CPDTypeName    0\n",
       "SourceName     0\n",
       "CPDSmiles      0\n",
       "dtype: int64"
      ]
     },
     "execution_count": 115,
     "metadata": {},
     "output_type": "execute_result"
    }
   ],
   "source": [
    "second_merge = second_merge.fillna('None')\n",
    "second_merge.isna().sum()"
   ]
  },
  {
   "cell_type": "code",
   "execution_count": 104,
   "id": "2898d6a8",
   "metadata": {},
   "outputs": [
    {
     "data": {
      "text/plain": [
       "Ph-golgi       /Users/pepe/.morpho_minds_data/24277/Raw_pictu...\n",
       "Hoechst        /Users/pepe/.morpho_minds_data/24277/Raw_pictu...\n",
       "ERSyto         /Users/pepe/.morpho_minds_data/24277/Raw_pictu...\n",
       "Mito           /Users/pepe/.morpho_minds_data/24277/Raw_pictu...\n",
       "ERSytoBleed    /Users/pepe/.morpho_minds_data/24277/Raw_pictu...\n",
       "CellCount                                                   91.0\n",
       "Well                                                         a01\n",
       "PhotoNumber                                                    1\n",
       "Role                                                     treated\n",
       "DrugID                                    BRD-K18250272-003-03-7\n",
       "MMoles                                                  3.023438\n",
       "CPDName                                             propoxycaine\n",
       "CPDTypeName                                                  INN\n",
       "SourceName                               Prestwick Chemical Inc.\n",
       "CPDSmiles                         CCCOc1cc(N)ccc1C(=O)OCCN(CC)CC\n",
       "Name: 0, dtype: object"
      ]
     },
     "metadata": {},
     "output_type": "display_data"
    },
    {
     "data": {
      "text/plain": [
       "\"0 Column Ph-golgi is of type <class 'str'>\""
      ]
     },
     "metadata": {},
     "output_type": "display_data"
    },
    {
     "data": {
      "text/plain": [
       "\"1 Column Hoechst is of type <class 'str'>\""
      ]
     },
     "metadata": {},
     "output_type": "display_data"
    },
    {
     "data": {
      "text/plain": [
       "\"2 Column ERSyto is of type <class 'str'>\""
      ]
     },
     "metadata": {},
     "output_type": "display_data"
    },
    {
     "data": {
      "text/plain": [
       "\"3 Column Mito is of type <class 'str'>\""
      ]
     },
     "metadata": {},
     "output_type": "display_data"
    },
    {
     "data": {
      "text/plain": [
       "\"4 Column ERSytoBleed is of type <class 'str'>\""
      ]
     },
     "metadata": {},
     "output_type": "display_data"
    },
    {
     "data": {
      "text/plain": [
       "\"5 Column CellCount is of type <class 'numpy.float16'>\""
      ]
     },
     "metadata": {},
     "output_type": "display_data"
    },
    {
     "data": {
      "text/plain": [
       "\"6 Column Well is of type <class 'str'>\""
      ]
     },
     "metadata": {},
     "output_type": "display_data"
    },
    {
     "data": {
      "text/plain": [
       "\"7 Column PhotoNumber is of type <class 'numpy.int8'>\""
      ]
     },
     "metadata": {},
     "output_type": "display_data"
    },
    {
     "data": {
      "text/plain": [
       "\"8 Column Role is of type <class 'str'>\""
      ]
     },
     "metadata": {},
     "output_type": "display_data"
    },
    {
     "data": {
      "text/plain": [
       "\"9 Column DrugID is of type <class 'str'>\""
      ]
     },
     "metadata": {},
     "output_type": "display_data"
    },
    {
     "data": {
      "text/plain": [
       "\"10 Column MMoles is of type <class 'numpy.float16'>\""
      ]
     },
     "metadata": {},
     "output_type": "display_data"
    }
   ],
   "source": [
    "series_2 = second_merge.iloc[0,:]\n",
    "display(series_2)\n",
    "for i in range(len(series_1)):\n",
    "    display(f'{i} Column {series_2.keys()[i]} is of type {type(series_2[i])}')"
   ]
  },
  {
   "cell_type": "code",
   "execution_count": 85,
   "id": "cb399c83",
   "metadata": {},
   "outputs": [
    {
     "data": {
      "text/plain": [
       "Ph-golgi       /Users/pepe/.morpho_minds_data/24277/Raw_pictu...\n",
       "Hoechst        /Users/pepe/.morpho_minds_data/24277/Raw_pictu...\n",
       "ERSyto         /Users/pepe/.morpho_minds_data/24277/Raw_pictu...\n",
       "Mito           /Users/pepe/.morpho_minds_data/24277/Raw_pictu...\n",
       "ERSytoBleed    /Users/pepe/.morpho_minds_data/24277/Raw_pictu...\n",
       "CellCount                                                   91.0\n",
       "Well                                                         a01\n",
       "PhotoNumber                                                    1\n",
       "Role                                                     treated\n",
       "DrugID                                    BRD-K18250272-003-03-7\n",
       "MMoles                                                  3.023438\n",
       "Name: 0, dtype: object"
      ]
     },
     "execution_count": 85,
     "metadata": {},
     "output_type": "execute_result"
    }
   ],
   "source": [
    "series_1 = concat_df.merge(well_df).iloc[0,:]\n",
    "series_1"
   ]
  },
  {
   "cell_type": "code",
   "execution_count": 93,
   "id": "8fd088ff",
   "metadata": {},
   "outputs": [
    {
     "name": "stdout",
     "output_type": "stream",
     "text": [
      "<class 'pandas.core.frame.DataFrame'>\n",
      "Int64Index: 2297 entries, 0 to 2296\n",
      "Data columns (total 11 columns):\n",
      " #   Column       Non-Null Count  Dtype  \n",
      "---  ------       --------------  -----  \n",
      " 0   Ph-golgi     2297 non-null   object \n",
      " 1   Hoechst      2297 non-null   object \n",
      " 2   ERSyto       2297 non-null   object \n",
      " 3   Mito         2297 non-null   object \n",
      " 4   ERSytoBleed  2297 non-null   object \n",
      " 5   CellCount    2297 non-null   float16\n",
      " 6   Well         2297 non-null   object \n",
      " 7   PhotoNumber  2297 non-null   int8   \n",
      " 8   Role         2297 non-null   object \n",
      " 9   DrugID       2297 non-null   object \n",
      " 10  MMoles       2297 non-null   float16\n",
      "dtypes: float16(2), int8(1), object(8)\n",
      "memory usage: 172.7+ KB\n"
     ]
    },
    {
     "data": {
      "text/plain": [
       "None"
      ]
     },
     "metadata": {},
     "output_type": "display_data"
    },
    {
     "name": "stdout",
     "output_type": "stream",
     "text": [
      "<class 'pandas.core.frame.DataFrame'>\n",
      "RangeIndex: 30616 entries, 0 to 30615\n",
      "Data columns (total 5 columns):\n",
      " #   Column       Non-Null Count  Dtype \n",
      "---  ------       --------------  ----- \n",
      " 0   DrugID       30616 non-null  object\n",
      " 1   CPDName      30612 non-null  object\n",
      " 2   CPDTypeName  30612 non-null  object\n",
      " 3   SourceName   30612 non-null  object\n",
      " 4   CPDSmiles    30612 non-null  object\n",
      "dtypes: object(5)\n",
      "memory usage: 1.2+ MB\n"
     ]
    },
    {
     "data": {
      "text/plain": [
       "None"
      ]
     },
     "metadata": {},
     "output_type": "display_data"
    }
   ],
   "source": [
    "display(first_merge.info())\n",
    "display(chem_df.info())"
   ]
  },
  {
   "cell_type": "code",
   "execution_count": 86,
   "id": "c489fb9f",
   "metadata": {},
   "outputs": [
    {
     "data": {
      "text/plain": [
       "\"0 Column Ph-golgi is of type <class 'str'>\""
      ]
     },
     "metadata": {},
     "output_type": "display_data"
    },
    {
     "data": {
      "text/plain": [
       "\"1 Column Hoechst is of type <class 'str'>\""
      ]
     },
     "metadata": {},
     "output_type": "display_data"
    },
    {
     "data": {
      "text/plain": [
       "\"2 Column ERSyto is of type <class 'str'>\""
      ]
     },
     "metadata": {},
     "output_type": "display_data"
    },
    {
     "data": {
      "text/plain": [
       "\"3 Column Mito is of type <class 'str'>\""
      ]
     },
     "metadata": {},
     "output_type": "display_data"
    },
    {
     "data": {
      "text/plain": [
       "\"4 Column ERSytoBleed is of type <class 'str'>\""
      ]
     },
     "metadata": {},
     "output_type": "display_data"
    },
    {
     "data": {
      "text/plain": [
       "\"5 Column CellCount is of type <class 'numpy.float16'>\""
      ]
     },
     "metadata": {},
     "output_type": "display_data"
    },
    {
     "data": {
      "text/plain": [
       "\"6 Column Well is of type <class 'str'>\""
      ]
     },
     "metadata": {},
     "output_type": "display_data"
    },
    {
     "data": {
      "text/plain": [
       "\"7 Column PhotoNumber is of type <class 'numpy.int8'>\""
      ]
     },
     "metadata": {},
     "output_type": "display_data"
    },
    {
     "data": {
      "text/plain": [
       "\"8 Column Role is of type <class 'str'>\""
      ]
     },
     "metadata": {},
     "output_type": "display_data"
    },
    {
     "data": {
      "text/plain": [
       "\"9 Column DrugID is of type <class 'str'>\""
      ]
     },
     "metadata": {},
     "output_type": "display_data"
    },
    {
     "data": {
      "text/plain": [
       "\"10 Column MMoles is of type <class 'numpy.float16'>\""
      ]
     },
     "metadata": {},
     "output_type": "display_data"
    }
   ],
   "source": [
    "for i in range(len(series_1)):\n",
    "    display(f'{i} Column {series_1.keys()[i]} is of type {type(series_1[i])}')"
   ]
  },
  {
   "cell_type": "code",
   "execution_count": null,
   "id": "4fbd028c",
   "metadata": {},
   "outputs": [],
   "source": [
    "well_df.reset_index(drop=True, inplace=True)\n",
    "chem_df.reset_index(drop=True, inplace=True)\n",
    "display(well_df.describe())\n",
    "display(chem_df.describe())\n",
    "well_df.merge(chem_df, how='left', on='')"
   ]
  },
  {
   "cell_type": "markdown",
   "id": "372ff314",
   "metadata": {},
   "source": [
    "## BigQuery Test"
   ]
  },
  {
   "cell_type": "code",
   "execution_count": null,
   "id": "d92b39af",
   "metadata": {},
   "outputs": [],
   "source": [
    "gcp_project = 'gifted-electron-411311'\n",
    "GCP_PROJECT = 'gifted-electron-411311'\n",
    "BQ_REGION='EU'\n",
    "BQ_DATASET='morpho_minds'\n",
    "PLATE_NUMBER='24277'\n",
    "full_table_name = f\"{GCP_PROJECT}.{BQ_DATASET}.{PLATE_NUMBER}_processed\"\n",
    "\n",
    "data = pd.read_csv('/Users/pepe/.morpho_minds_data/24277/processed/24277_processed.csv')\n",
    "\n",
    "client = bigquery.Client(project=gcp_project)\n",
    "write_mode = \"WRITE_TRUNCATE\"\n"
   ]
  },
  {
   "cell_type": "code",
   "execution_count": null,
   "id": "d97a65c0",
   "metadata": {},
   "outputs": [],
   "source": [
    "client = bigquery.Client()"
   ]
  },
  {
   "cell_type": "code",
   "execution_count": null,
   "id": "726ff582",
   "metadata": {},
   "outputs": [],
   "source": []
  },
  {
   "cell_type": "code",
   "execution_count": null,
   "id": "bda0813a",
   "metadata": {},
   "outputs": [],
   "source": [
    "job_config = bigquery.LoadJobConfig(write_disposition=write_mode)"
   ]
  },
  {
   "cell_type": "code",
   "execution_count": null,
   "id": "92d05fa0",
   "metadata": {},
   "outputs": [],
   "source": [
    "job = client.load_table_from_dataframe(data, full_table_name, job_config=job_config)\n",
    "job"
   ]
  },
  {
   "cell_type": "code",
   "execution_count": null,
   "id": "c83b90f7",
   "metadata": {},
   "outputs": [],
   "source": [
    "data['Ph-golgi'][0]"
   ]
  },
  {
   "cell_type": "code",
   "execution_count": null,
   "id": "207f5b59",
   "metadata": {},
   "outputs": [],
   "source": [
    "data['Hoechst'][0]"
   ]
  },
  {
   "cell_type": "code",
   "execution_count": 135,
   "id": "e4c76be7",
   "metadata": {},
   "outputs": [],
   "source": [
    "import os"
   ]
  },
  {
   "cell_type": "code",
   "execution_count": 136,
   "id": "bf790092",
   "metadata": {},
   "outputs": [
    {
     "data": {
      "text/plain": [
       "<module 'posixpath' from '/Users/pepe/.pyenv/versions/3.10.6/lib/python3.10/posixpath.py'>"
      ]
     },
     "execution_count": 136,
     "metadata": {},
     "output_type": "execute_result"
    }
   ],
   "source": [
    "os.path"
   ]
  },
  {
   "cell_type": "code",
   "execution_count": null,
   "id": "83b472be",
   "metadata": {},
   "outputs": [],
   "source": []
  }
 ],
 "metadata": {
  "kernelspec": {
   "display_name": "Python 3 (ipykernel)",
   "language": "python",
   "name": "python3"
  },
  "language_info": {
   "codemirror_mode": {
    "name": "ipython",
    "version": 3
   },
   "file_extension": ".py",
   "mimetype": "text/x-python",
   "name": "python",
   "nbconvert_exporter": "python",
   "pygments_lexer": "ipython3",
   "version": "3.10.6"
  },
  "toc": {
   "base_numbering": 1,
   "nav_menu": {},
   "number_sections": true,
   "sideBar": true,
   "skip_h1_title": false,
   "title_cell": "Table of Contents",
   "title_sidebar": "Contents",
   "toc_cell": false,
   "toc_position": {},
   "toc_section_display": true,
   "toc_window_display": true
  }
 },
 "nbformat": 4,
 "nbformat_minor": 5
}
